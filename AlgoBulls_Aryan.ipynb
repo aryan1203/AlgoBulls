{
 "cells": [
  {
   "cell_type": "code",
   "execution_count": 2,
   "id": "6d41a71d",
   "metadata": {},
   "outputs": [
    {
     "name": "stdout",
     "output_type": "stream",
     "text": [
      "Requirement already satisfied: alpha_vantage in c:\\users\\admin\\anaconda3\\lib\\site-packages (2.3.1)\n",
      "Requirement already satisfied: requests in c:\\users\\admin\\anaconda3\\lib\\site-packages (from alpha_vantage) (2.28.1)\n",
      "Requirement already satisfied: aiohttp in c:\\users\\admin\\anaconda3\\lib\\site-packages (from alpha_vantage) (3.8.4)\n",
      "Requirement already satisfied: yarl<2.0,>=1.0 in c:\\users\\admin\\anaconda3\\lib\\site-packages (from aiohttp->alpha_vantage) (1.8.2)\n",
      "Requirement already satisfied: frozenlist>=1.1.1 in c:\\users\\admin\\anaconda3\\lib\\site-packages (from aiohttp->alpha_vantage) (1.3.3)\n",
      "Requirement already satisfied: async-timeout<5.0,>=4.0.0a3 in c:\\users\\admin\\anaconda3\\lib\\site-packages (from aiohttp->alpha_vantage) (4.0.2)\n",
      "Requirement already satisfied: multidict<7.0,>=4.5 in c:\\users\\admin\\anaconda3\\lib\\site-packages (from aiohttp->alpha_vantage) (6.0.4)\n",
      "Requirement already satisfied: charset-normalizer<4.0,>=2.0 in c:\\users\\admin\\anaconda3\\lib\\site-packages (from aiohttp->alpha_vantage) (2.0.4)\n",
      "Requirement already satisfied: attrs>=17.3.0 in c:\\users\\admin\\anaconda3\\lib\\site-packages (from aiohttp->alpha_vantage) (21.4.0)\n",
      "Requirement already satisfied: aiosignal>=1.1.2 in c:\\users\\admin\\anaconda3\\lib\\site-packages (from aiohttp->alpha_vantage) (1.3.1)\n",
      "Requirement already satisfied: idna<4,>=2.5 in c:\\users\\admin\\anaconda3\\lib\\site-packages (from requests->alpha_vantage) (3.3)\n",
      "Requirement already satisfied: urllib3<1.27,>=1.21.1 in c:\\users\\admin\\anaconda3\\lib\\site-packages (from requests->alpha_vantage) (1.26.11)\n",
      "Requirement already satisfied: certifi>=2017.4.17 in c:\\users\\admin\\anaconda3\\lib\\site-packages (from requests->alpha_vantage) (2022.9.14)\n",
      "Note: you may need to restart the kernel to use updated packages.\n"
     ]
    }
   ],
   "source": [
    "pip install alpha_vantage"
   ]
  },
  {
   "cell_type": "code",
   "execution_count": 3,
   "id": "122df4c2",
   "metadata": {},
   "outputs": [],
   "source": [
    "import pandas as pd\n",
    "from alpha_vantage.timeseries import TimeSeries"
   ]
  },
  {
   "cell_type": "code",
   "execution_count": 4,
   "id": "591e41a4",
   "metadata": {},
   "outputs": [],
   "source": [
    "from pandas.core.groupby.groupby import Timestamp\n",
    "#ScriptData Class\n",
    "class ScriptData():\n",
    "    #fetching data\n",
    "    def fetch_intraday_data(self,script):\n",
    "        ts = TimeSeries(key='T279YIRDA8MZE6YG',output_format='pandas',indexing_type='integer')\n",
    "        # Get json object with the intraday data and another with  the call's metadata\n",
    "        data, meta_data = ts.get_intraday(script,interval='60min', outputsize='full')\n",
    "        return data\n",
    "    #converting data\n",
    "    def convert_intraday_data(self,script):\n",
    "        df=pd.DataFrame(script)       #DataFrame\n",
    "        df.rename(columns={'index':'Timestamp',\n",
    "                           '1. open':'Open',\n",
    "                           '2. high':'High',\n",
    "                           '3. low':'Low',\n",
    "                           '4. close':'Close',\n",
    "                           '5. volume':'Volume'},inplace=True)\n",
    "        df['Timestamp'] = pd.to_datetime(df['Timestamp'])\n",
    "        df['Volume'] = df['Volume'].astype(int)\n",
    "        print(df.info())\n",
    "        return df"
   ]
  },
  {
   "cell_type": "code",
   "execution_count": 5,
   "id": "128298fb",
   "metadata": {},
   "outputs": [
    {
     "name": "stdout",
     "output_type": "stream",
     "text": [
      "Enter your choice: 1\n",
      "                     index   1. open   2. high    3. low  4. close  5. volume\n",
      "index                                                                        \n",
      "0      2023-02-14 20:00:00  153.0800  153.0900  152.7000  152.8400    52909.0\n",
      "1      2023-02-14 19:00:00  153.2000  153.2000  153.0600  153.0900    40175.0\n",
      "2      2023-02-14 18:00:00  153.0800  153.2000  153.0166  153.1800   259770.0\n",
      "3      2023-02-14 17:00:00  153.2000  153.2000  152.8500  153.0900  2612717.0\n",
      "4      2023-02-14 16:00:00  153.2450  153.7300  152.9499  153.1000  7334349.0\n",
      "...                    ...       ...       ...       ...       ...        ...\n",
      "603    2022-12-20 09:00:00  131.9819  132.3309  130.2367  131.4733   282354.0\n",
      "604    2022-12-20 08:00:00  131.9121  132.0317  131.2838  131.2938   114990.0\n",
      "605    2022-12-20 07:00:00  131.7725  132.0816  131.7525  131.9121    15333.0\n",
      "606    2022-12-20 06:00:00  131.6528  131.8223  131.5830  131.7226    16775.0\n",
      "607    2022-12-20 05:00:00  131.8722  132.1115  131.3835  131.5531    55109.0\n",
      "\n",
      "[608 rows x 6 columns]\n",
      "<class 'pandas.core.frame.DataFrame'>\n",
      "RangeIndex: 608 entries, 0 to 607\n",
      "Data columns (total 6 columns):\n",
      " #   Column     Non-Null Count  Dtype         \n",
      "---  ------     --------------  -----         \n",
      " 0   Timestamp  608 non-null    datetime64[ns]\n",
      " 1   Open       608 non-null    float64       \n",
      " 2   High       608 non-null    float64       \n",
      " 3   Low        608 non-null    float64       \n",
      " 4   Close      608 non-null    float64       \n",
      " 5   Volume     608 non-null    int32         \n",
      "dtypes: datetime64[ns](1), float64(4), int32(1)\n",
      "memory usage: 26.2 KB\n",
      "None\n",
      "                Timestamp      Open      High       Low     Close   Volume\n",
      "index                                                                     \n",
      "0     2023-02-14 20:00:00  153.0800  153.0900  152.7000  152.8400    52909\n",
      "1     2023-02-14 19:00:00  153.2000  153.2000  153.0600  153.0900    40175\n",
      "2     2023-02-14 18:00:00  153.0800  153.2000  153.0166  153.1800   259770\n",
      "3     2023-02-14 17:00:00  153.2000  153.2000  152.8500  153.0900  2612717\n",
      "4     2023-02-14 16:00:00  153.2450  153.7300  152.9499  153.1000  7334349\n",
      "...                   ...       ...       ...       ...       ...      ...\n",
      "603   2022-12-20 09:00:00  131.9819  132.3309  130.2367  131.4733   282354\n",
      "604   2022-12-20 08:00:00  131.9121  132.0317  131.2838  131.2938   114990\n",
      "605   2022-12-20 07:00:00  131.7725  132.0816  131.7525  131.9121    15333\n",
      "606   2022-12-20 06:00:00  131.6528  131.8223  131.5830  131.7226    16775\n",
      "607   2022-12-20 05:00:00  131.8722  132.1115  131.3835  131.5531    55109\n",
      "\n",
      "[608 rows x 6 columns]\n"
     ]
    }
   ],
   "source": [
    "#Entering choice from following script\n",
    "script=['GOOGL','AAPL','MSFT','TSLA']\n",
    "n=int(input(\"Enter your choice: \"))\n",
    "Select=script[n]\n",
    "script_data=ScriptData()\n",
    "fetched_intraday_Data=script_data.fetch_intraday_data(Select)\n",
    "print(fetched_intraday_Data)\n",
    "fetched_converted_Data=script_data.convert_intraday_data(fetched_intraday_Data)\n",
    "print(fetched_converted_Data)"
   ]
  },
  {
   "cell_type": "code",
   "execution_count": 7,
   "id": "7c56ce56",
   "metadata": {},
   "outputs": [
    {
     "data": {
      "text/plain": [
       "True"
      ]
     },
     "execution_count": 7,
     "metadata": {},
     "output_type": "execute_result"
    }
   ],
   "source": [
    "'GOOGL' in script"
   ]
  },
  {
   "cell_type": "code",
   "execution_count": 8,
   "id": "b98d5275",
   "metadata": {},
   "outputs": [
    {
     "data": {
      "text/plain": [
       "True"
      ]
     },
     "execution_count": 8,
     "metadata": {},
     "output_type": "execute_result"
    }
   ],
   "source": [
    "'AAPL' in script"
   ]
  },
  {
   "cell_type": "code",
   "execution_count": 9,
   "id": "9d1acac1",
   "metadata": {},
   "outputs": [
    {
     "data": {
      "text/plain": [
       "False"
      ]
     },
     "execution_count": 9,
     "metadata": {},
     "output_type": "execute_result"
    }
   ],
   "source": [
    "'NVDA' in script"
   ]
  },
  {
   "cell_type": "code",
   "execution_count": 10,
   "id": "d1a4921a",
   "metadata": {},
   "outputs": [],
   "source": [
    "# Question 2"
   ]
  },
  {
   "cell_type": "code",
   "execution_count": 11,
   "id": "dd649155",
   "metadata": {},
   "outputs": [
    {
     "name": "stdout",
     "output_type": "stream",
     "text": [
      "Enter the timeperiod:3\n",
      "                Timestamp   indicator\n",
      "index                                \n",
      "0     2023-02-14 20:00:00         NaN\n",
      "1     2023-02-14 19:00:00         NaN\n",
      "2     2023-02-14 18:00:00         NaN\n",
      "3     2023-02-14 17:00:00  153.120000\n",
      "4     2023-02-14 16:00:00  153.123333\n",
      "...                   ...         ...\n",
      "603   2022-12-20 09:00:00  131.446700\n",
      "604   2022-12-20 08:00:00  131.240600\n",
      "605   2022-12-20 07:00:00  131.559733\n",
      "606   2022-12-20 06:00:00  131.642833\n",
      "607   2022-12-20 05:00:00  131.729267\n",
      "\n",
      "[608 rows x 2 columns]\n"
     ]
    }
   ],
   "source": [
    "import numpy as np\n",
    "#indicator1 function\n",
    "def indicator1(df,timeperiod):\n",
    "  df1=pd.DataFrame()       #DataFrame\n",
    "  df1['Timestamp']=df['Timestamp']\n",
    "  df1['indicator']=np.nan\n",
    "  for ind in df.index:\n",
    "    if ind<timeperiod:\n",
    "      pass\n",
    "    else:\n",
    "      Average=0\n",
    "      Sum=0\n",
    "      for j in range(timeperiod):\n",
    "        Sum+=df.loc[ind-j]['Close']      \n",
    "      Average=Sum/timeperiod\n",
    "      df1.at[ind,'indicator']=Average\n",
    "  print(df1)\n",
    "  return df1\n",
    "\n",
    "#Taking timeperiod from user\n",
    "timeperiod=int(input(\"Enter the timeperiod:\"))\n",
    "indicat=indicator1(fetched_converted_Data,timeperiod)"
   ]
  },
  {
   "cell_type": "code",
   "execution_count": 12,
   "id": "7f2db8a7",
   "metadata": {},
   "outputs": [],
   "source": [
    "## Question 3"
   ]
  },
  {
   "cell_type": "code",
   "execution_count": 13,
   "id": "5657e6c8",
   "metadata": {},
   "outputs": [
    {
     "name": "stdout",
     "output_type": "stream",
     "text": [
      "       Close_data  indicator_Data\n",
      "index                            \n",
      "0        152.8400             NaN\n",
      "1        153.0900             NaN\n",
      "2        153.1800             NaN\n",
      "3        153.0900      153.120000\n",
      "4        153.1000      153.123333\n",
      "...           ...             ...\n",
      "603      131.4733      131.446700\n",
      "604      131.2938      131.240600\n",
      "605      131.9121      131.559733\n",
      "606      131.7226      131.642833\n",
      "607      131.5531      131.729267\n",
      "\n",
      "[608 rows x 2 columns]\n"
     ]
    }
   ],
   "source": [
    "df2=pd.DataFrame()       #DataFrame\n",
    "#Strategy class\n",
    "class Strategy:\n",
    "  def fetch_intraday_hist_day(self,df):\n",
    "    df2['Close_data']=df['Close']\n",
    "  def fetch_indicator_data(self,df):\n",
    "    df2['indicator_Data']=df['indicator']\n",
    "    return df2\n",
    "\n",
    "Strate=Strategy()\n",
    "Strate.fetch_intraday_hist_day(fetched_converted_Data)\n",
    "Signal_Data=Strate.fetch_indicator_data(indicat)\n",
    "print(Signal_Data)"
   ]
  },
  {
   "cell_type": "code",
   "execution_count": 14,
   "id": "42565f4b",
   "metadata": {},
   "outputs": [
    {
     "name": "stdout",
     "output_type": "stream",
     "text": [
      "                timestamp     signal\n",
      "index                               \n",
      "0     2023-02-14 20:00:00  NO SIGNAL\n",
      "1     2023-02-14 19:00:00  NO SIGNAL\n",
      "2     2023-02-14 18:00:00  NO SIGNAL\n",
      "3     2023-02-14 17:00:00        BUY\n",
      "4     2023-02-14 16:00:00        BUY\n",
      "...                   ...        ...\n",
      "603   2022-12-20 09:00:00       SELL\n",
      "604   2022-12-20 08:00:00       SELL\n",
      "605   2022-12-20 07:00:00       SELL\n",
      "606   2022-12-20 06:00:00       SELL\n",
      "607   2022-12-20 05:00:00        BUY\n",
      "\n",
      "[608 rows x 2 columns]\n"
     ]
    }
   ],
   "source": [
    "#Signal Function\n",
    "def Signal_function(df3):\n",
    "  signals=pd.DataFrame()      #DataFrame\n",
    "  signals['timestamp']=indicat['Timestamp']\n",
    "  for i in df3.index:\n",
    "    if df3.loc[i]['indicator_Data']>df3.loc[i]['Close_data']:\n",
    "      signals.at[i,'signal']=\"BUY\"\n",
    "    elif df3.loc[i]['indicator_Data']<df3.loc[i]['Close_data']:\n",
    "      signals.at[i,'signal']=\"SELL\"\n",
    "    else:\n",
    "      signals.at[i,'signal']=\"NO SIGNAL\"\n",
    "  return signals\n",
    "\n",
    "Signal=Signal_function(Signal_Data)\n",
    "print(Signal)"
   ]
  },
  {
   "cell_type": "code",
   "execution_count": 15,
   "id": "612c0a5b",
   "metadata": {},
   "outputs": [
    {
     "data": {
      "image/png": "[encoded data removed]",
      "text/plain": [
       "<Figure size 640x480 with 1 Axes>"
      ]
     },
     "metadata": {},
     "output_type": "display_data"
    }
   ],
   "source": [
    "import matplotlib.pyplot as plt\n",
    "ax=plt.subplots()\n",
    "x=Signal['timestamp'].head(15)\n",
    "y=Signal_Data['Close_data'].head(15)\n",
    "plt.plot(x,y)\n",
    "plt.xticks(x,fontsize= 10,rotation =30)\n",
    "#for ind in Signal.index():\n",
    "#  if Signal['signal']=='BUY':\n",
    "#    plt.xticks(Signal.loc[ind]['timestamp'],fontsize= 15,rotation =30,facecolor='PINK')\n",
    "#  elif Signal['signal']=='SELL':\n",
    "#    plt.xticks(Signal.loc[ind]['timestamp'],fontsize= 15,rotation =30,color='BLUE')\n",
    "#  else:\n",
    "#    plt.xticks(Signal.loc[ind]['timestamp'],fontsize= 15,rotation =30,color='YELLOW')\n",
    "plt.show()"
   ]
  },
  {
   "cell_type": "code",
   "execution_count": 16,
   "id": "a9d7eb58",
   "metadata": {},
   "outputs": [
    {
     "name": "stdout",
     "output_type": "stream",
     "text": [
      "                timestamp signal\n",
      "index                           \n",
      "3     2023-02-14 17:00:00    BUY\n",
      "4     2023-02-14 16:00:00    BUY\n",
      "5     2023-02-14 15:00:00   SELL\n",
      "6     2023-02-14 14:00:00    BUY\n",
      "7     2023-02-14 13:00:00    BUY\n",
      "...                   ...    ...\n",
      "603   2022-12-20 09:00:00   SELL\n",
      "604   2022-12-20 08:00:00   SELL\n",
      "605   2022-12-20 07:00:00   SELL\n",
      "606   2022-12-20 06:00:00   SELL\n",
      "607   2022-12-20 05:00:00    BUY\n",
      "\n",
      "[603 rows x 2 columns]\n"
     ]
    }
   ],
   "source": [
    "def get_signal(Signal):\n",
    "  B_or_S= pd.DataFrame()\n",
    "  i=0\n",
    "  for ind in Signal.index:\n",
    "    B_or_S = Signal[(Signal['signal'] == 'BUY') | (Signal['signal'] == 'SELL')]\n",
    "    return B_or_S\n",
    "got_signal=get_signal(Signal)\n",
    "print(got_signal)"
   ]
  },
  {
   "cell_type": "code",
   "execution_count": 17,
   "id": "e3bff149",
   "metadata": {},
   "outputs": [],
   "source": [
    "## Question 4"
   ]
  },
  {
   "cell_type": "code",
   "execution_count": 19,
   "id": "96750b45",
   "metadata": {},
   "outputs": [
    {
     "name": "stdout",
     "output_type": "stream",
     "text": [
      "Collecting pyalgotrading\n",
      "  Downloading pyalgotrading-2022.9.3-py3-none-any.whl (29 kB)\n",
      "Requirement already satisfied: pandas>=0.25.3 in c:\\users\\admin\\anaconda3\\lib\\site-packages (from pyalgotrading) (1.4.4)\n",
      "Requirement already satisfied: requests>=2.24.0 in c:\\users\\admin\\anaconda3\\lib\\site-packages (from pyalgotrading) (2.28.1)\n",
      "Requirement already satisfied: pytz>=2020.1 in c:\\users\\admin\\anaconda3\\lib\\site-packages (from pandas>=0.25.3->pyalgotrading) (2022.1)\n",
      "Requirement already satisfied: numpy>=1.18.5 in c:\\users\\admin\\anaconda3\\lib\\site-packages (from pandas>=0.25.3->pyalgotrading) (1.21.5)\n",
      "Requirement already satisfied: python-dateutil>=2.8.1 in c:\\users\\admin\\anaconda3\\lib\\site-packages (from pandas>=0.25.3->pyalgotrading) (2.8.2)\n",
      "Requirement already satisfied: certifi>=2017.4.17 in c:\\users\\admin\\anaconda3\\lib\\site-packages (from requests>=2.24.0->pyalgotrading) (2022.9.14)\n",
      "Requirement already satisfied: charset-normalizer<3,>=2 in c:\\users\\admin\\anaconda3\\lib\\site-packages (from requests>=2.24.0->pyalgotrading) (2.0.4)\n",
      "Requirement already satisfied: urllib3<1.27,>=1.21.1 in c:\\users\\admin\\anaconda3\\lib\\site-packages (from requests>=2.24.0->pyalgotrading) (1.26.11)\n",
      "Requirement already satisfied: idna<4,>=2.5 in c:\\users\\admin\\anaconda3\\lib\\site-packages (from requests>=2.24.0->pyalgotrading) (3.3)\n",
      "Requirement already satisfied: six>=1.5 in c:\\users\\admin\\anaconda3\\lib\\site-packages (from python-dateutil>=2.8.1->pandas>=0.25.3->pyalgotrading) (1.16.0)\n",
      "Installing collected packages: pyalgotrading\n",
      "Successfully installed pyalgotrading-2022.9.3\n",
      "Note: you may need to restart the kernel to use updated packages.\n"
     ]
    }
   ],
   "source": [
    "pip install pyalgotrading"
   ]
  },
  {
   "cell_type": "code",
   "execution_count": null,
   "id": "444093e7",
   "metadata": {},
   "outputs": [],
   "source": []
  }
 ],
 "metadata": {
  "kernelspec": {
   "display_name": "Python 3 (ipykernel)",
   "language": "python",
   "name": "python3"
  },
  "language_info": {
   "codemirror_mode": {
    "name": "ipython",
    "version": 3
   },
   "file_extension": ".py",
   "mimetype": "text/x-python",
   "name": "python",
   "nbconvert_exporter": "python",
   "pygments_lexer": "ipython3",
   "version": "3.9.13"
  },
  "widgets": {
   "application/vnd.jupyter.widget-state+json": {
    "state": {},
    "version_major": 2,
    "version_minor": 0
   }
  }
 },
 "nbformat": 4,
 "nbformat_minor": 5
}
